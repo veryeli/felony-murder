{
 "cells": [
  {
   "cell_type": "code",
   "execution_count": 73,
   "id": "aa7aa10f",
   "metadata": {},
   "outputs": [
    {
     "name": "stdout",
     "output_type": "stream",
     "text": [
      "The autoreload extension is already loaded. To reload it, use:\n",
      "  %reload_ext autoreload\n"
     ]
    }
   ],
   "source": [
    "%load_ext autoreload\n",
    "%autoreload 2\n",
    "import re\n",
    "import pandas as pd\n",
    "\n",
    "from courtscraper.data_utils.consts import DOCCS_FOIL_TXT_PATH\n",
    "from courtscraper.data_utils.consts import DOCCS_FOIL_TXT_PATH, DOCCS_FOIL_XLSX, TRACKER_PATH, \\\n",
    "    IGNORE, ETHNICITIES, CRIMES, COUNTIES, GENERATED_MATCHES\n",
    "from courtscraper.ny.doccs_foil_text_to_xlsx import gen_xlsx"
   ]
  },
  {
   "cell_type": "code",
   "execution_count": 13,
   "id": "a0054630",
   "metadata": {},
   "outputs": [],
   "source": [
    "doccs_df = pd.read_excel(DOCCS_FOIL_XLSX)"
   ]
  },
  {
   "cell_type": "code",
   "execution_count": 54,
   "id": "e22910e8",
   "metadata": {
    "scrolled": true
   },
   "outputs": [],
   "source": [
    "def gen_convictions_df():\n",
    "    convictions = []\n",
    "    crimes = ['Most Serious Crime', 'Second Crime', 'Third Crime']\n",
    "    counties = ['County of Indictment 1', 'County of Indictment 2', 'County of Indictment 3']\n",
    "    for idx, fieldname in enumerate(crimes):\n",
    "        for _, line in doccs_df.iterrows():\n",
    "            if line[fieldname] == 'MURDER 2ND':\n",
    "                convictions.append([\n",
    "                    line['DIN'],\n",
    "                    line['Name'],\n",
    "                    line['Date of Birth'],\n",
    "                    line['Ethnicity'],\n",
    "                    line[fieldname],\n",
    "                    line[counties[idx]],\n",
    "                    line['Min Prison Term in Months']\n",
    "                ])\n",
    "    convs = pd.DataFrame(convictions)\n",
    "    convs.columns = ['DIN', 'Name', 'DOB', 'Race', 'Crime', 'County', 'Min Term (Months)']\n",
    "\n",
    "    convs.Name = convs.Name.apply(lambda x: x.title())\n",
    "    convs.Race = convs.Race.apply(lambda x: x.title())\n",
    "    convs.County = convs.County.apply(lambda x: x.title())\n",
    "    convs.County = convs.County.apply(lambda x: 'St. Lawrence' if x == 'St Lawrence' else x)\n",
    "    convs['YOB'] = convs.DOB.apply(lambda x: int(str(x)[:4]))\n",
    "    convs.Race = convs.Race.apply(lambda x: x if x in ['Black', 'White', 'Hispanic', 'Asian'] else 'Other-Unknown')\n",
    "    convs = convs.drop_duplicates()\n",
    "    return convs\n",
    "\n",
    "convs = gen_convictions_df()"
   ]
  },
  {
   "cell_type": "code",
   "execution_count": 55,
   "id": "36e9c7ac",
   "metadata": {},
   "outputs": [
    {
     "name": "stderr",
     "output_type": "stream",
     "text": [
      "/Users/eli/projects/felony-murder/.venv/lib/python3.9/site-packages/openpyxl/worksheet/_reader.py:329: UserWarning: Data Validation extension is not supported and will be removed\n",
      "  warn(msg)\n"
     ]
    }
   ],
   "source": [
    "# from collections import Counter\n",
    "# Counter(convs['DOB'])\n",
    "\n",
    "# # gen_xlsx('15A0634')\n",
    "# # convs[convs['County'].apply(lambda x: type(x) != str)]\n",
    "# doccs_df\n"
   ]
  },
  {
   "cell_type": "code",
   "execution_count": 79,
   "id": "99a4a698",
   "metadata": {},
   "outputs": [
    {
     "name": "stderr",
     "output_type": "stream",
     "text": [
      "/Users/eli/projects/felony-murder/.venv/lib/python3.9/site-packages/openpyxl/worksheet/_reader.py:329: UserWarning: Data Validation extension is not supported and will be removed\n",
      "  warn(msg)\n"
     ]
    }
   ],
   "source": [
    "tracker = pd.read_excel(TRACKER_PATH, sheet_name=1)\n",
    "tracker['AutoName'] = tracker['Name']\n",
    "\n",
    "with open(GENERATED_MATCHES, 'w', encoding='utf-8') as file:\n",
    "    for _, row in tracker.iterrows():\n",
    "        if row['AutoName'] and str(row['AutoName']) != 'nan':\n",
    "            continue\n",
    "        if row['Crime Year'] != 'Unknown' and row['Crime Year'] >= 2020:\n",
    "            continue\n",
    "        match_convs = convs[convs['County'].apply(lambda x: x == row['Disposition County'])]\n",
    "#         print(row['Disposition County'])\n",
    "#         print(match_convs)\n",
    "        min_term = row['Min Prison Term in Months']\n",
    "        if str(min_term) in ['nan', 'Unknown']:\n",
    "            match_convs = match_convs[\n",
    "                match_convs['Min Term (Months)'].apply(\n",
    "                    lambda x: str(x) == 'nan')]\n",
    "        else:\n",
    "            match_convs = match_convs[\n",
    "                match_convs['Min Term (Months)'].apply(\n",
    "                    lambda x: str(x) != 'nan' and int(x) == int(min_term))]\n",
    "\n",
    "        if match_convs.empty:\n",
    "            continue\n",
    "        match_convs = match_convs[\n",
    "            match_convs['Race'].apply(\n",
    "                lambda x: x == row['Race/Ethnicity of Arrestee'])]\n",
    "        if match_convs.empty:\n",
    "            continue\n",
    "        if row['Crime Year'] != 'Unknown':\n",
    "            potential_yobs = [(row['Crime Year'] - row['Age at Crime']),\n",
    "                             (row['Crime Year'] - row['Age at Crime']) - 1]\n",
    "            match_convs = match_convs[\n",
    "                match_convs['YOB'].apply(\n",
    "                    lambda x: x in potential_yobs)]\n",
    "        if match_convs.empty:\n",
    "            continue\n",
    "        match_convs = match_convs[match_convs['DIN'].apply(\n",
    "                lambda x: int(x[:2]) >= int(str(row['Arrest Year'])[2:])\n",
    "            )]\n",
    "\n",
    "        if not match_convs.empty:\n",
    "            \n",
    "            file.write(f\"Original Number: {row['Original Number']} \\n\")\n",
    "            file.write(f\"Crime Year: {row['Crime Year']} Age at Arrest: {row['Age at Crime']}\")\n",
    "            file.write(f\" Arrest Year: {row['Arrest Year']} \")\n",
    "            file.write(f\" Race: {row['Race/Ethnicity of Arrestee']} Disposition County: {row['Disposition County']} \\n\")\n",
    "            file.write(str(match_convs[['DIN', 'Name', 'DOB', 'Race', 'County', 'Min Term (Months)']]))\n",
    "            file.write('\\n\\n----------------------\\n')\n",
    "\n",
    "        "
   ]
  }
 ],
 "metadata": {
  "kernelspec": {
   "display_name": "Python 3 (ipykernel)",
   "language": "python",
   "name": "python3"
  },
  "language_info": {
   "codemirror_mode": {
    "name": "ipython",
    "version": 3
   },
   "file_extension": ".py",
   "mimetype": "text/x-python",
   "name": "python",
   "nbconvert_exporter": "python",
   "pygments_lexer": "ipython3",
   "version": "3.9.6"
  }
 },
 "nbformat": 4,
 "nbformat_minor": 5
}
