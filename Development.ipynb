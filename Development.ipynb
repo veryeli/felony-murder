{
 "cells": [
  {
   "cell_type": "code",
   "execution_count": 73,
   "id": "71a8fb0b",
   "metadata": {},
   "outputs": [
    {
     "name": "stdout",
     "output_type": "stream",
     "text": [
      "The autoreload extension is already loaded. To reload it, use:\n",
      "  %reload_ext autoreload\n"
     ]
    }
   ],
   "source": [
    "%load_ext autoreload\n",
    "%autoreload 2\n",
    "import re\n",
    "import pandas as pd\n",
    "\n",
    "from courtscraper.data_utils.consts import DOCCS_FOIL_TXT_PATH\n",
    "from courtscraper.data_utils.consts import DOCCS_FOIL_TXT_PATH, DOCCS_FOIL_XLSX, TRACKER_PATH, \\\n",
    "    IGNORE, ETHNICITIES, CRIMES, COUNTIES, GENERATED_MATCHES\n",
    "from courtscraper.ny.doccs_foil_text_to_xlsx import gen_xlsx"
   ]
  },
  {
   "cell_type": "code",
   "execution_count": 13,
   "id": "315ae053",
   "metadata": {},
   "outputs": [],
   "source": [
    "doccs_df = pd.read_excel(DOCCS_FOIL_XLSX)"
   ]
  },
  {
   "cell_type": "code",
   "execution_count": 54,
   "id": "bdd1ba31",
   "metadata": {
    "scrolled": true
   },
   "outputs": [],
   "source": [
    "def gen_convictions_df():\n",
    "    convictions = []\n",
    "    crimes = ['Most Serious Crime', 'Second Crime', 'Third Crime']\n",
    "    counties = ['County of Indictment 1', 'County of Indictment 2', 'County of Indictment 3']\n",
    "    for idx, fieldname in enumerate(crimes):\n",
    "        for _, line in doccs_df.iterrows():\n",
    "            if line[fieldname] == 'MURDER 2ND':\n",
    "                convictions.append([\n",
    "                    line['DIN'],\n",
    "                    line['Name'],\n",
    "                    line['Date of Birth'],\n",
    "                    line['Ethnicity'],\n",
    "                    line[fieldname],\n",
    "                    line[counties[idx]],\n",
    "                    line['Min Prison Term in Months']\n",
    "                ])\n",
    "    convs = pd.DataFrame(convictions)\n",
    "    convs.columns = ['DIN', 'Name', 'DOB', 'Race', 'Crime', 'County', 'Min Term (Months)']\n",
    "\n",
    "    convs.Name = convs.Name.apply(lambda x: x.title())\n",
    "    convs.Race = convs.Race.apply(lambda x: x.title())\n",
    "    convs.County = convs.County.apply(lambda x: x.title())\n",
    "    convs.County = convs.County.apply(lambda x: 'St. Lawrence' if x == 'St Lawrence' else x)\n",
    "    convs['YOB'] = convs.DOB.apply(lambda x: int(str(x)[:4]))\n",
    "    convs.Race = convs.Race.apply(lambda x: x if x in ['Black', 'White', 'Hispanic', 'Asian'] else 'Other-Unknown')\n",
    "    convs = convs.drop_duplicates()\n",
    "    return convs\n",
    "\n",
    "convs = gen_convictions_df()"
   ]
  },
  {
   "cell_type": "code",
   "execution_count": 86,
   "id": "0e640469",
   "metadata": {},
   "outputs": [
    {
     "name": "stderr",
     "output_type": "stream",
     "text": [
      "/Users/eli/projects/felony-murder/.venv/lib/python3.9/site-packages/openpyxl/worksheet/_reader.py:329: UserWarning: Data Validation extension is not supported and will be removed\n",
      "  warn(msg)\n"
     ]
    }
   ],
   "source": [
    "# from collections import Counter\n",
    "# Counter(convs['DOB'])\n",
    "\n",
    "# # gen_xlsx('15A0634')\n",
    "# # convs[convs['County'].apply(lambda x: type(x) != str)]\n",
    "# doccs_df"
   ]
  },
  {
   "cell_type": "code",
   "execution_count": 91,
   "id": "442fd31f",
   "metadata": {},
   "outputs": [
    {
     "name": "stderr",
     "output_type": "stream",
     "text": [
      "/Users/eli/projects/felony-murder/.venv/lib/python3.9/site-packages/openpyxl/worksheet/_reader.py:329: UserWarning: Data Validation extension is not supported and will be removed\n",
      "  warn(msg)\n"
     ]
    },
    {
     "ename": "KeyError",
     "evalue": "\"['DIN'] not in index\"",
     "output_type": "error",
     "traceback": [
      "\u001b[0;31m---------------------------------------------------------------------------\u001b[0m",
      "\u001b[0;31mKeyError\u001b[0m                                  Traceback (most recent call last)",
      "Cell \u001b[0;32mIn[91], line 49\u001b[0m\n\u001b[1;32m     47\u001b[0m file\u001b[38;5;241m.\u001b[39mwrite(\u001b[38;5;124mf\u001b[39m\u001b[38;5;124m\"\u001b[39m\u001b[38;5;124m Arrest Year: \u001b[39m\u001b[38;5;132;01m{\u001b[39;00mrow[\u001b[38;5;124m'\u001b[39m\u001b[38;5;124mArrest Year\u001b[39m\u001b[38;5;124m'\u001b[39m]\u001b[38;5;132;01m}\u001b[39;00m\u001b[38;5;124m \u001b[39m\u001b[38;5;124m\"\u001b[39m)\n\u001b[1;32m     48\u001b[0m file\u001b[38;5;241m.\u001b[39mwrite(\u001b[38;5;124mf\u001b[39m\u001b[38;5;124m\"\u001b[39m\u001b[38;5;124m Race: \u001b[39m\u001b[38;5;132;01m{\u001b[39;00mrow[\u001b[38;5;124m'\u001b[39m\u001b[38;5;124mRace/Ethnicity of Arrestee\u001b[39m\u001b[38;5;124m'\u001b[39m]\u001b[38;5;132;01m}\u001b[39;00m\u001b[38;5;124m Disposition County: \u001b[39m\u001b[38;5;132;01m{\u001b[39;00mrow[\u001b[38;5;124m'\u001b[39m\u001b[38;5;124mDisposition County\u001b[39m\u001b[38;5;124m'\u001b[39m]\u001b[38;5;132;01m}\u001b[39;00m\u001b[38;5;124m \u001b[39m\u001b[38;5;130;01m\\n\u001b[39;00m\u001b[38;5;124m\"\u001b[39m)\n\u001b[0;32m---> 49\u001b[0m file\u001b[38;5;241m.\u001b[39mwrite(\u001b[38;5;28mstr\u001b[39m(\u001b[43mmatch_convs\u001b[49m\u001b[43m[\u001b[49m\u001b[43m[\u001b[49m\u001b[38;5;124;43m'\u001b[39;49m\u001b[38;5;124;43mDIN\u001b[39;49m\u001b[38;5;124;43m'\u001b[39;49m\u001b[43m,\u001b[49m\u001b[43m \u001b[49m\u001b[38;5;124;43m'\u001b[39;49m\u001b[38;5;124;43mName\u001b[39;49m\u001b[38;5;124;43m'\u001b[39;49m\u001b[43m,\u001b[49m\u001b[43m \u001b[49m\u001b[38;5;124;43m'\u001b[39;49m\u001b[38;5;124;43mDOB\u001b[39;49m\u001b[38;5;124;43m'\u001b[39;49m\u001b[43m,\u001b[49m\u001b[43m \u001b[49m\u001b[38;5;124;43m'\u001b[39;49m\u001b[38;5;124;43mRace\u001b[39;49m\u001b[38;5;124;43m'\u001b[39;49m\u001b[43m,\u001b[49m\u001b[43m \u001b[49m\u001b[38;5;124;43m'\u001b[39;49m\u001b[38;5;124;43mCounty\u001b[39;49m\u001b[38;5;124;43m'\u001b[39;49m\u001b[43m,\u001b[49m\u001b[43m \u001b[49m\u001b[38;5;124;43m'\u001b[39;49m\u001b[38;5;124;43mMin Term (Months)\u001b[39;49m\u001b[38;5;124;43m'\u001b[39;49m\u001b[43m]\u001b[49m\u001b[43m]\u001b[49m))\n\u001b[1;32m     50\u001b[0m file\u001b[38;5;241m.\u001b[39mwrite(\u001b[38;5;124m'\u001b[39m\u001b[38;5;130;01m\\n\u001b[39;00m\u001b[38;5;130;01m\\n\u001b[39;00m\u001b[38;5;124m----------------------\u001b[39m\u001b[38;5;130;01m\\n\u001b[39;00m\u001b[38;5;124m'\u001b[39m)\n",
      "File \u001b[0;32m~/projects/felony-murder/.venv/lib/python3.9/site-packages/pandas/core/frame.py:3767\u001b[0m, in \u001b[0;36mDataFrame.__getitem__\u001b[0;34m(self, key)\u001b[0m\n\u001b[1;32m   3765\u001b[0m     \u001b[38;5;28;01mif\u001b[39;00m is_iterator(key):\n\u001b[1;32m   3766\u001b[0m         key \u001b[38;5;241m=\u001b[39m \u001b[38;5;28mlist\u001b[39m(key)\n\u001b[0;32m-> 3767\u001b[0m     indexer \u001b[38;5;241m=\u001b[39m \u001b[38;5;28;43mself\u001b[39;49m\u001b[38;5;241;43m.\u001b[39;49m\u001b[43mcolumns\u001b[49m\u001b[38;5;241;43m.\u001b[39;49m\u001b[43m_get_indexer_strict\u001b[49m\u001b[43m(\u001b[49m\u001b[43mkey\u001b[49m\u001b[43m,\u001b[49m\u001b[43m \u001b[49m\u001b[38;5;124;43m\"\u001b[39;49m\u001b[38;5;124;43mcolumns\u001b[39;49m\u001b[38;5;124;43m\"\u001b[39;49m\u001b[43m)\u001b[49m[\u001b[38;5;241m1\u001b[39m]\n\u001b[1;32m   3769\u001b[0m \u001b[38;5;66;03m# take() does not accept boolean indexers\u001b[39;00m\n\u001b[1;32m   3770\u001b[0m \u001b[38;5;28;01mif\u001b[39;00m \u001b[38;5;28mgetattr\u001b[39m(indexer, \u001b[38;5;124m\"\u001b[39m\u001b[38;5;124mdtype\u001b[39m\u001b[38;5;124m\"\u001b[39m, \u001b[38;5;28;01mNone\u001b[39;00m) \u001b[38;5;241m==\u001b[39m \u001b[38;5;28mbool\u001b[39m:\n",
      "File \u001b[0;32m~/projects/felony-murder/.venv/lib/python3.9/site-packages/pandas/core/indexes/base.py:5876\u001b[0m, in \u001b[0;36mIndex._get_indexer_strict\u001b[0;34m(self, key, axis_name)\u001b[0m\n\u001b[1;32m   5873\u001b[0m \u001b[38;5;28;01melse\u001b[39;00m:\n\u001b[1;32m   5874\u001b[0m     keyarr, indexer, new_indexer \u001b[38;5;241m=\u001b[39m \u001b[38;5;28mself\u001b[39m\u001b[38;5;241m.\u001b[39m_reindex_non_unique(keyarr)\n\u001b[0;32m-> 5876\u001b[0m \u001b[38;5;28;43mself\u001b[39;49m\u001b[38;5;241;43m.\u001b[39;49m\u001b[43m_raise_if_missing\u001b[49m\u001b[43m(\u001b[49m\u001b[43mkeyarr\u001b[49m\u001b[43m,\u001b[49m\u001b[43m \u001b[49m\u001b[43mindexer\u001b[49m\u001b[43m,\u001b[49m\u001b[43m \u001b[49m\u001b[43maxis_name\u001b[49m\u001b[43m)\u001b[49m\n\u001b[1;32m   5878\u001b[0m keyarr \u001b[38;5;241m=\u001b[39m \u001b[38;5;28mself\u001b[39m\u001b[38;5;241m.\u001b[39mtake(indexer)\n\u001b[1;32m   5879\u001b[0m \u001b[38;5;28;01mif\u001b[39;00m \u001b[38;5;28misinstance\u001b[39m(key, Index):\n\u001b[1;32m   5880\u001b[0m     \u001b[38;5;66;03m# GH 42790 - Preserve name from an Index\u001b[39;00m\n",
      "File \u001b[0;32m~/projects/felony-murder/.venv/lib/python3.9/site-packages/pandas/core/indexes/base.py:5938\u001b[0m, in \u001b[0;36mIndex._raise_if_missing\u001b[0;34m(self, key, indexer, axis_name)\u001b[0m\n\u001b[1;32m   5935\u001b[0m     \u001b[38;5;28;01mraise\u001b[39;00m \u001b[38;5;167;01mKeyError\u001b[39;00m(\u001b[38;5;124mf\u001b[39m\u001b[38;5;124m\"\u001b[39m\u001b[38;5;124mNone of [\u001b[39m\u001b[38;5;132;01m{\u001b[39;00mkey\u001b[38;5;132;01m}\u001b[39;00m\u001b[38;5;124m] are in the [\u001b[39m\u001b[38;5;132;01m{\u001b[39;00maxis_name\u001b[38;5;132;01m}\u001b[39;00m\u001b[38;5;124m]\u001b[39m\u001b[38;5;124m\"\u001b[39m)\n\u001b[1;32m   5937\u001b[0m not_found \u001b[38;5;241m=\u001b[39m \u001b[38;5;28mlist\u001b[39m(ensure_index(key)[missing_mask\u001b[38;5;241m.\u001b[39mnonzero()[\u001b[38;5;241m0\u001b[39m]]\u001b[38;5;241m.\u001b[39munique())\n\u001b[0;32m-> 5938\u001b[0m \u001b[38;5;28;01mraise\u001b[39;00m \u001b[38;5;167;01mKeyError\u001b[39;00m(\u001b[38;5;124mf\u001b[39m\u001b[38;5;124m\"\u001b[39m\u001b[38;5;132;01m{\u001b[39;00mnot_found\u001b[38;5;132;01m}\u001b[39;00m\u001b[38;5;124m not in index\u001b[39m\u001b[38;5;124m\"\u001b[39m)\n",
      "\u001b[0;31mKeyError\u001b[0m: \"['DIN'] not in index\""
     ]
    }
   ],
   "source": [
    "tracker = pd.read_excel(TRACKER_PATH, sheet_name=1)\n",
    "tracker['AutoName'] = tracker['Name']\n",
    "\n",
    "with open(GENERATED_MATCHES, 'w', encoding='utf-8') as file:\n",
    "    for _, row in tracker.iterrows():\n",
    "        if row['AutoName'] and str(row['AutoName']) != 'nan':\n",
    "            continue\n",
    "        if row['Crime Year'] != 'Unknown' and row['Crime Year'] >= 2020:\n",
    "            continue\n",
    "        match_convs = convs[convs['County'].apply(lambda x: x == row['Disposition County'])]\n",
    "#         print(row['Disposition County'])\n",
    "#         print(match_convs)\n",
    "        min_term = row['Min Prison Term in Months']\n",
    "        if str(min_term) in ['nan', 'Unknown']:\n",
    "            match_convs = match_convs[\n",
    "                match_convs['Min Term (Months)'].apply(\n",
    "                    lambda x: str(x) == 'nan')]\n",
    "        else:\n",
    "            match_convs = match_convs[\n",
    "                match_convs['Min Term (Months)'].apply(\n",
    "                    lambda x: str(x) != 'nan' and int(x) == int(min_term))]\n",
    "\n",
    "        if match_convs.empty:\n",
    "            continue\n",
    "        match_convs = match_convs[\n",
    "            match_convs['Race'].apply(\n",
    "                lambda x: x == row['Race/Ethnicity of Arrestee'])]\n",
    "        if match_convs.empty:\n",
    "            continue\n",
    "        if row['Crime Year'] != 'Unknown':\n",
    "            potential_yobs = [(row['Crime Year'] - row['Age at Crime']),\n",
    "                             (row['Crime Year'] - row['Age at Crime']) - 1]\n",
    "            match_convs = match_convs[\n",
    "                match_convs['YOB'].apply(\n",
    "                    lambda x: x in potential_yobs)]\n",
    "        if match_convs.empty:\n",
    "            continue\n",
    "        match_convs = match_convs[match_convs['DIN'].apply(\n",
    "                lambda x: int(x[:2]) >= int(str(row['Arrest Year'])[2:])\n",
    "            )]\n",
    "\n",
    "        if not match_convs.empty:\n",
    "            match_convs = match_convs.set_index('DIN')\n",
    "            \n",
    "            file.write(f\"Original Number: {row['Original Number']} \\n\")\n",
    "            file.write(f\"Crime Year: {row['Crime Year']} Age at Arrest: {row['Age at Crime']}\")\n",
    "            file.write(f\" Arrest Year: {row['Arrest Year']} \")\n",
    "            file.write(f\" Race: {row['Race/Ethnicity of Arrestee']} Disposition County: {row['Disposition County']} \\n\")\n",
    "            file.write(str(match_convs[['Name', 'DOB', 'Race', 'County', 'Min Term (Months)']]))\n",
    "            file.write('\\n\\n----------------------\\n')\n",
    "\n",
    "        "
   ]
  },
  {
   "cell_type": "code",
   "execution_count": 93,
   "id": "e15e9c01",
   "metadata": {},
   "outputs": [
    {
     "name": "stdout",
     "output_type": "stream",
     "text": [
      "                  Name       DOB      Race       Crime County   \n",
      "DIN                                                             \n",
      "09A1668  Carrasco Jose  19850312  Hispanic  MURDER 2ND  Bronx  \\\n",
      "14A1473   Garcia Pablo  19861203  Hispanic  MURDER 2ND  Bronx   \n",
      "18A0295  Dejesus Jason  19860919  Hispanic  MURDER 2ND  Bronx   \n",
      "12A2099   Colon Paul J  19850813  Hispanic  MURDER 2ND  Bronx   \n",
      "\n",
      "         Min Term (Months)   YOB  \n",
      "DIN                               \n",
      "09A1668              300.0  1985  \n",
      "14A1473              300.0  1986  \n",
      "18A0295              300.0  1986  \n",
      "12A2099              300.0  1985  \n"
     ]
    }
   ],
   "source": [
    "# # Counter(tracker['Disposition Outcome'])\n",
    "# tracker = pd.read_excel(TRACKER_PATH, sheet_name=1)\n",
    "# tracker = tracker[\n",
    "#     tracker['Disposition Outcome'].apply(lambda x: x in ['Convicted-Sentenced', 'Covered by Another Case'])]\n",
    "# Counter(tracker['Name'])\n",
    "match_convs\n",
    "print(match_convs)"
   ]
  },
  {
   "cell_type": "code",
   "execution_count": 85,
   "id": "5fd682b8",
   "metadata": {},
   "outputs": [
    {
     "data": {
      "text/plain": [
       "0       True\n",
       "1       True\n",
       "2       True\n",
       "3       True\n",
       "4       True\n",
       "        ... \n",
       "1227    True\n",
       "1228    True\n",
       "1229    True\n",
       "1230    True\n",
       "1231    True\n",
       "Name: Disposition Outcome, Length: 1232, dtype: bool"
      ]
     },
     "execution_count": 85,
     "metadata": {},
     "output_type": "execute_result"
    }
   ],
   "source": [
    "# Counter(tracker)\n",
    "tracker"
   ]
  }
 ],
 "metadata": {
  "kernelspec": {
   "display_name": "Python 3 (ipykernel)",
   "language": "python",
   "name": "python3"
  },
  "language_info": {
   "codemirror_mode": {
    "name": "ipython",
    "version": 3
   },
   "file_extension": ".py",
   "mimetype": "text/x-python",
   "name": "python",
   "nbconvert_exporter": "python",
   "pygments_lexer": "ipython3",
   "version": "3.9.6"
  }
 },
 "nbformat": 4,
 "nbformat_minor": 5
}
